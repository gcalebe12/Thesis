from ultralytics import YOLO

# Caminho do modelo e dados
model_path = "yolo11m-seg.pt"  # Modelo pré-treinado
data_path = '/content/Dataset Inicial/data.yaml'  # YAML da base de dados
device = '0'  # '0' para GPU ou 'cpu' para CPU

# Configurações dos treinamentos
train_configs = [
    {"epochs": 100, "batch": 16, "lr0": 0.001, "name": "baseline_training"},       # Treinamento padrão
    {"epochs": 150, "batch": 16, "lr0": 0.0001, "name": "stable_convergence"},          # Convergência estável
    {"epochs": 50, "batch": 8, "lr0": 0.01, "name": "fast_convergence"},       # Convergência rápida
    {"epochs": 100, "batch": 8, "lr0": 0.002, "name": "low_resource"},          # Poucos recursos
]

# Loop para treinar com cada configuração
for config in train_configs:
    print(f"Iniciando treinamento: {config['name']}")
    model = YOLO(model_path)  # Carregar o modelo pré-treinado
    model.train(
        data=data_path,
        epochs=config["epochs"],
        imgsz=640,
        batch=config["batch"],
        lr0=config["lr0"],
        device=device
    )
    print(f"Treinamento {config['name']} concluído!\n")
